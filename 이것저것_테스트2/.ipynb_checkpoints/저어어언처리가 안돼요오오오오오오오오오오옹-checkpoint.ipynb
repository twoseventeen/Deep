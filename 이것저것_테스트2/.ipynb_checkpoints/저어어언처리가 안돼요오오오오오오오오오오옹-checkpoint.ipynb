{
 "cells": [
  {
   "cell_type": "code",
   "execution_count": 4,
   "id": "4b381d3f",
   "metadata": {
    "scrolled": true
   },
   "outputs": [
    {
     "name": "stdout",
     "output_type": "stream",
     "text": [
      "{\"1. 본문\": [{\"이유\": \"기초 사실 당사자들의 지위 및 관계원고는 당시 인천 서구에 소재한 초등학교이하 이 사건 학교라 한다 오학년에 재학 중경 이후 육학년에 재학이었던 학생이고 원고의 부모이다. 원고와 같은 반에 재학 중이었던 학생이며 원고와 같은 반에 재학 중이었던 학생이다. 무렵 학교폭력의 발생이하 제일차 학교폭력이라 한다. 원고 와 닭싸움을 하던 중 시비가 되어 학교 운동장에서 의 배를 주먹으로 여러 차례 때렸다. 오전경 교실에서 후드티를 입고 등교한 원고에게 성추행범 같다고 말하였다.\"}]}\n",
      "[responseCode] 200\n",
      "[responBody]<urllib3.response.HTTPResponse object at 0x0000022C20DD5F08>\n",
      "['{', '\"', 'r', 'e', 's', 'u', 'l', 't', '\"', ':', '-', '1', ',', '\"', 'r', 'e', 'a', 's', 'o', 'n', '\"', ':', '\"', 'j', 'a', 'v', 'a', '.', 'l', 'a', 'n', 'g', '.', 'I', 'l', 'l', 'e', 'g', 'a', 'l', 'S', 't', 'a', 't', 'e', 'E', 'x', 'c', 'e', 'p', 't', 'i', 'o', 'n', ':', ' ', 'E', 'x', 'p', 'e', 'c', 't', 'e', 'd', ' ', 'S', 'T', 'R', 'I', 'N', 'G', ' ', 'b', 'u', 't', ' ', 'w', 'a', 's', ' ', 'B', 'E', 'G', 'I', 'N', '_', 'O', 'B', 'J', 'E', 'C', 'T', ' ', 'a', 't', ' ', 'p', 'a', 't', 'h', ' ', '$', '.', 't', 'e', 'x', 't', '\"', '}']\n"
     ]
    }
   ],
   "source": [
    "import urllib3\n",
    "import json\n",
    "\n",
    "openApiURL = \"http://aiopen.etri.re.kr:8000/WiseNLU\" \n",
    "\n",
    " \n",
    "accessKey = \"d5e49acd-83c7-48be-8bbd-f6db0db6916f\"\n",
    "analysisCode = \"ANALYSIS_CODE\"\n",
    "\n",
    "with open('./precedent1.json', 'r', encoding=\"utf-8\") as text:\n",
    "\n",
    "    json_data = json.load(text)\n",
    "\n",
    "print(json.dumps(json_data,ensure_ascii=False) )\n",
    "\n",
    "requestJson = {\n",
    "    \"access_key\": accessKey,\n",
    "    \"argument\": {\n",
    "        \"text\": json_data,\n",
    "        \"analysis_code\": analysisCode\n",
    "    }\n",
    "}\n",
    "\n",
    "http = urllib3.PoolManager()\n",
    "\n",
    "response = http.request(\n",
    "    \"POST\",\n",
    "    openApiURL,\n",
    "    headers={\"Content-Type\": \"application/json; charset=UTF-8\"},\n",
    "    body=json.dumps(requestJson)\n",
    ")\n",
    "\n",
    "print(\"[responseCode] \" + str(response.status))\n",
    "print(\"[responBody]\" + str(response))\n",
    "print(list(str(response.data,\"utf-8\")))"
   ]
  }
 ],
 "metadata": {
  "kernelspec": {
   "display_name": "Python 3 (ipykernel)",
   "language": "python",
   "name": "python3"
  },
  "language_info": {
   "codemirror_mode": {
    "name": "ipython",
    "version": 3
   },
   "file_extension": ".py",
   "mimetype": "text/x-python",
   "name": "python",
   "nbconvert_exporter": "python",
   "pygments_lexer": "ipython3",
   "version": "3.7.9"
  }
 },
 "nbformat": 4,
 "nbformat_minor": 5
}
